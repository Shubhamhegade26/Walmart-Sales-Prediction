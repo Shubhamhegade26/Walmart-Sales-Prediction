{
 "cells": [
  {
   "cell_type": "code",
   "execution_count": 1,
   "id": "9a9c095a",
   "metadata": {
    "execution": {
     "iopub.execute_input": "2021-08-31T08:41:49.404850Z",
     "iopub.status.busy": "2021-08-31T08:41:49.403705Z",
     "iopub.status.idle": "2021-08-31T08:41:49.406039Z",
     "shell.execute_reply": "2021-08-31T08:41:49.406462Z",
     "shell.execute_reply.started": "2021-08-31T08:23:30.739233Z"
    },
    "id": "BQxFqelp8Lxi",
    "papermill": {
     "duration": 0.041263,
     "end_time": "2021-08-31T08:41:49.406668",
     "exception": false,
     "start_time": "2021-08-31T08:41:49.365405",
     "status": "completed"
    },
    "tags": []
   },
   "outputs": [],
   "source": [
    "import pandas as pd\n",
    "import numpy as np\n",
    "import matplotlib.pyplot as plt\n",
    "%matplotlib inline"
   ]
  },
  {
   "cell_type": "code",
   "execution_count": 2,
   "id": "016e246e",
   "metadata": {
    "execution": {
     "iopub.execute_input": "2021-08-31T08:41:49.461278Z",
     "iopub.status.busy": "2021-08-31T08:41:49.460703Z",
     "iopub.status.idle": "2021-08-31T08:41:49.865865Z",
     "shell.execute_reply": "2021-08-31T08:41:49.865267Z",
     "shell.execute_reply.started": "2021-08-31T08:23:30.759257Z"
    },
    "id": "BBBYUga28cUU",
    "papermill": {
     "duration": 0.433669,
     "end_time": "2021-08-31T08:41:49.865990",
     "exception": false,
     "start_time": "2021-08-31T08:41:49.432321",
     "status": "completed"
    },
    "tags": []
   },
   "outputs": [],
   "source": [
    "data = pd.read_csv('../input/walmart-sales-prediction/train.csv')\n",
    "features = pd.read_csv('../input/walmart-sales-prediction/features.csv')\n",
    "stores = pd.read_csv('../input/walmart-sales-prediction/stores.csv')"
   ]
  },
  {
   "cell_type": "code",
   "execution_count": 3,
   "id": "d49ec046",
   "metadata": {
    "execution": {
     "iopub.execute_input": "2021-08-31T08:41:49.928471Z",
     "iopub.status.busy": "2021-08-31T08:41:49.927688Z",
     "iopub.status.idle": "2021-08-31T08:41:49.950179Z",
     "shell.execute_reply": "2021-08-31T08:41:49.950629Z",
     "shell.execute_reply.started": "2021-08-31T08:23:31.291982Z"
    },
    "id": "TcaVV3SG8uYP",
    "outputId": "5eb6942b-47ce-4704-edef-5ee51ac1fc3e",
    "papermill": {
     "duration": 0.059003,
     "end_time": "2021-08-31T08:41:49.950760",
     "exception": false,
     "start_time": "2021-08-31T08:41:49.891757",
     "status": "completed"
    },
    "tags": []
   },
   "outputs": [
    {
     "data": {
      "text/html": [
       "<div>\n",
       "<style scoped>\n",
       "    .dataframe tbody tr th:only-of-type {\n",
       "        vertical-align: middle;\n",
       "    }\n",
       "\n",
       "    .dataframe tbody tr th {\n",
       "        vertical-align: top;\n",
       "    }\n",
       "\n",
       "    .dataframe thead th {\n",
       "        text-align: right;\n",
       "    }\n",
       "</style>\n",
       "<table border=\"1\" class=\"dataframe\">\n",
       "  <thead>\n",
       "    <tr style=\"text-align: right;\">\n",
       "      <th></th>\n",
       "      <th>Store</th>\n",
       "      <th>Date</th>\n",
       "      <th>Temperature</th>\n",
       "      <th>Fuel_Price</th>\n",
       "      <th>MarkDown1</th>\n",
       "      <th>MarkDown2</th>\n",
       "      <th>MarkDown3</th>\n",
       "      <th>MarkDown4</th>\n",
       "      <th>MarkDown5</th>\n",
       "      <th>CPI</th>\n",
       "      <th>Unemployment</th>\n",
       "      <th>IsHoliday</th>\n",
       "    </tr>\n",
       "  </thead>\n",
       "  <tbody>\n",
       "    <tr>\n",
       "      <th>0</th>\n",
       "      <td>1</td>\n",
       "      <td>2010-02-05</td>\n",
       "      <td>42.31</td>\n",
       "      <td>2.572</td>\n",
       "      <td>NaN</td>\n",
       "      <td>NaN</td>\n",
       "      <td>NaN</td>\n",
       "      <td>NaN</td>\n",
       "      <td>NaN</td>\n",
       "      <td>211.096358</td>\n",
       "      <td>8.106</td>\n",
       "      <td>False</td>\n",
       "    </tr>\n",
       "    <tr>\n",
       "      <th>1</th>\n",
       "      <td>1</td>\n",
       "      <td>2010-02-12</td>\n",
       "      <td>38.51</td>\n",
       "      <td>2.548</td>\n",
       "      <td>NaN</td>\n",
       "      <td>NaN</td>\n",
       "      <td>NaN</td>\n",
       "      <td>NaN</td>\n",
       "      <td>NaN</td>\n",
       "      <td>211.242170</td>\n",
       "      <td>8.106</td>\n",
       "      <td>True</td>\n",
       "    </tr>\n",
       "    <tr>\n",
       "      <th>2</th>\n",
       "      <td>1</td>\n",
       "      <td>2010-02-19</td>\n",
       "      <td>39.93</td>\n",
       "      <td>2.514</td>\n",
       "      <td>NaN</td>\n",
       "      <td>NaN</td>\n",
       "      <td>NaN</td>\n",
       "      <td>NaN</td>\n",
       "      <td>NaN</td>\n",
       "      <td>211.289143</td>\n",
       "      <td>8.106</td>\n",
       "      <td>False</td>\n",
       "    </tr>\n",
       "    <tr>\n",
       "      <th>3</th>\n",
       "      <td>1</td>\n",
       "      <td>2010-02-26</td>\n",
       "      <td>46.63</td>\n",
       "      <td>2.561</td>\n",
       "      <td>NaN</td>\n",
       "      <td>NaN</td>\n",
       "      <td>NaN</td>\n",
       "      <td>NaN</td>\n",
       "      <td>NaN</td>\n",
       "      <td>211.319643</td>\n",
       "      <td>8.106</td>\n",
       "      <td>False</td>\n",
       "    </tr>\n",
       "    <tr>\n",
       "      <th>4</th>\n",
       "      <td>1</td>\n",
       "      <td>2010-03-05</td>\n",
       "      <td>46.50</td>\n",
       "      <td>2.625</td>\n",
       "      <td>NaN</td>\n",
       "      <td>NaN</td>\n",
       "      <td>NaN</td>\n",
       "      <td>NaN</td>\n",
       "      <td>NaN</td>\n",
       "      <td>211.350143</td>\n",
       "      <td>8.106</td>\n",
       "      <td>False</td>\n",
       "    </tr>\n",
       "  </tbody>\n",
       "</table>\n",
       "</div>"
      ],
      "text/plain": [
       "   Store        Date  Temperature  Fuel_Price  MarkDown1  MarkDown2  \\\n",
       "0      1  2010-02-05        42.31       2.572        NaN        NaN   \n",
       "1      1  2010-02-12        38.51       2.548        NaN        NaN   \n",
       "2      1  2010-02-19        39.93       2.514        NaN        NaN   \n",
       "3      1  2010-02-26        46.63       2.561        NaN        NaN   \n",
       "4      1  2010-03-05        46.50       2.625        NaN        NaN   \n",
       "\n",
       "   MarkDown3  MarkDown4  MarkDown5         CPI  Unemployment  IsHoliday  \n",
       "0        NaN        NaN        NaN  211.096358         8.106      False  \n",
       "1        NaN        NaN        NaN  211.242170         8.106       True  \n",
       "2        NaN        NaN        NaN  211.289143         8.106      False  \n",
       "3        NaN        NaN        NaN  211.319643         8.106      False  \n",
       "4        NaN        NaN        NaN  211.350143         8.106      False  "
      ]
     },
     "execution_count": 3,
     "metadata": {},
     "output_type": "execute_result"
    }
   ],
   "source": [
    "features.head()"
   ]
  },
  {
   "cell_type": "code",
   "execution_count": 4,
   "id": "5a46aa15",
   "metadata": {
    "execution": {
     "iopub.execute_input": "2021-08-31T08:41:50.012760Z",
     "iopub.status.busy": "2021-08-31T08:41:50.012033Z",
     "iopub.status.idle": "2021-08-31T08:41:50.015508Z",
     "shell.execute_reply": "2021-08-31T08:41:50.015092Z",
     "shell.execute_reply.started": "2021-08-31T08:23:31.333506Z"
    },
    "id": "QWWyzBe28v1o",
    "outputId": "3650a64a-9930-42ca-90d9-da000b87650e",
    "papermill": {
     "duration": 0.035931,
     "end_time": "2021-08-31T08:41:50.015612",
     "exception": false,
     "start_time": "2021-08-31T08:41:49.979681",
     "status": "completed"
    },
    "tags": []
   },
   "outputs": [
    {
     "data": {
      "text/html": [
       "<div>\n",
       "<style scoped>\n",
       "    .dataframe tbody tr th:only-of-type {\n",
       "        vertical-align: middle;\n",
       "    }\n",
       "\n",
       "    .dataframe tbody tr th {\n",
       "        vertical-align: top;\n",
       "    }\n",
       "\n",
       "    .dataframe thead th {\n",
       "        text-align: right;\n",
       "    }\n",
       "</style>\n",
       "<table border=\"1\" class=\"dataframe\">\n",
       "  <thead>\n",
       "    <tr style=\"text-align: right;\">\n",
       "      <th></th>\n",
       "      <th>Store</th>\n",
       "      <th>Type</th>\n",
       "      <th>Size</th>\n",
       "    </tr>\n",
       "  </thead>\n",
       "  <tbody>\n",
       "    <tr>\n",
       "      <th>0</th>\n",
       "      <td>1</td>\n",
       "      <td>A</td>\n",
       "      <td>151315</td>\n",
       "    </tr>\n",
       "    <tr>\n",
       "      <th>1</th>\n",
       "      <td>2</td>\n",
       "      <td>A</td>\n",
       "      <td>202307</td>\n",
       "    </tr>\n",
       "    <tr>\n",
       "      <th>2</th>\n",
       "      <td>3</td>\n",
       "      <td>B</td>\n",
       "      <td>37392</td>\n",
       "    </tr>\n",
       "    <tr>\n",
       "      <th>3</th>\n",
       "      <td>4</td>\n",
       "      <td>A</td>\n",
       "      <td>205863</td>\n",
       "    </tr>\n",
       "    <tr>\n",
       "      <th>4</th>\n",
       "      <td>5</td>\n",
       "      <td>B</td>\n",
       "      <td>34875</td>\n",
       "    </tr>\n",
       "  </tbody>\n",
       "</table>\n",
       "</div>"
      ],
      "text/plain": [
       "   Store Type    Size\n",
       "0      1    A  151315\n",
       "1      2    A  202307\n",
       "2      3    B   37392\n",
       "3      4    A  205863\n",
       "4      5    B   34875"
      ]
     },
     "execution_count": 4,
     "metadata": {},
     "output_type": "execute_result"
    }
   ],
   "source": [
    "stores.head()"
   ]
  },
  {
   "cell_type": "code",
   "execution_count": 5,
   "id": "6e8d2f4b",
   "metadata": {
    "execution": {
     "iopub.execute_input": "2021-08-31T08:41:50.071718Z",
     "iopub.status.busy": "2021-08-31T08:41:50.071010Z",
     "iopub.status.idle": "2021-08-31T08:41:50.073992Z",
     "shell.execute_reply": "2021-08-31T08:41:50.074442Z",
     "shell.execute_reply.started": "2021-08-31T08:23:31.346906Z"
    },
    "id": "OQyKlUlt82Ci",
    "outputId": "9e6d0e3e-6e67-4526-b690-b558b42a5946",
    "papermill": {
     "duration": 0.032915,
     "end_time": "2021-08-31T08:41:50.074565",
     "exception": false,
     "start_time": "2021-08-31T08:41:50.041650",
     "status": "completed"
    },
    "tags": []
   },
   "outputs": [
    {
     "data": {
      "text/plain": [
       "(8190, 12)"
      ]
     },
     "execution_count": 5,
     "metadata": {},
     "output_type": "execute_result"
    }
   ],
   "source": [
    "features.shape"
   ]
  },
  {
   "cell_type": "code",
   "execution_count": 6,
   "id": "cb2ef2eb",
   "metadata": {
    "execution": {
     "iopub.execute_input": "2021-08-31T08:41:50.137383Z",
     "iopub.status.busy": "2021-08-31T08:41:50.136605Z",
     "iopub.status.idle": "2021-08-31T08:41:50.140270Z",
     "shell.execute_reply": "2021-08-31T08:41:50.139823Z",
     "shell.execute_reply.started": "2021-08-31T08:23:31.361214Z"
    },
    "id": "W91JSmY79Acw",
    "outputId": "09a98eba-f2be-4cbd-aabf-05b2e00c7fba",
    "papermill": {
     "duration": 0.038731,
     "end_time": "2021-08-31T08:41:50.140373",
     "exception": false,
     "start_time": "2021-08-31T08:41:50.101642",
     "status": "completed"
    },
    "tags": []
   },
   "outputs": [
    {
     "data": {
      "text/html": [
       "<div>\n",
       "<style scoped>\n",
       "    .dataframe tbody tr th:only-of-type {\n",
       "        vertical-align: middle;\n",
       "    }\n",
       "\n",
       "    .dataframe tbody tr th {\n",
       "        vertical-align: top;\n",
       "    }\n",
       "\n",
       "    .dataframe thead th {\n",
       "        text-align: right;\n",
       "    }\n",
       "</style>\n",
       "<table border=\"1\" class=\"dataframe\">\n",
       "  <thead>\n",
       "    <tr style=\"text-align: right;\">\n",
       "      <th></th>\n",
       "      <th>Store</th>\n",
       "      <th>Dept</th>\n",
       "      <th>Date</th>\n",
       "      <th>Weekly_Sales</th>\n",
       "      <th>IsHoliday</th>\n",
       "    </tr>\n",
       "  </thead>\n",
       "  <tbody>\n",
       "    <tr>\n",
       "      <th>0</th>\n",
       "      <td>1</td>\n",
       "      <td>1</td>\n",
       "      <td>2010-02-05</td>\n",
       "      <td>24924.50</td>\n",
       "      <td>False</td>\n",
       "    </tr>\n",
       "    <tr>\n",
       "      <th>1</th>\n",
       "      <td>1</td>\n",
       "      <td>1</td>\n",
       "      <td>2010-02-12</td>\n",
       "      <td>46039.49</td>\n",
       "      <td>True</td>\n",
       "    </tr>\n",
       "    <tr>\n",
       "      <th>2</th>\n",
       "      <td>1</td>\n",
       "      <td>1</td>\n",
       "      <td>2010-02-19</td>\n",
       "      <td>41595.55</td>\n",
       "      <td>False</td>\n",
       "    </tr>\n",
       "    <tr>\n",
       "      <th>3</th>\n",
       "      <td>1</td>\n",
       "      <td>1</td>\n",
       "      <td>2010-02-26</td>\n",
       "      <td>19403.54</td>\n",
       "      <td>False</td>\n",
       "    </tr>\n",
       "    <tr>\n",
       "      <th>4</th>\n",
       "      <td>1</td>\n",
       "      <td>1</td>\n",
       "      <td>2010-03-05</td>\n",
       "      <td>21827.90</td>\n",
       "      <td>False</td>\n",
       "    </tr>\n",
       "  </tbody>\n",
       "</table>\n",
       "</div>"
      ],
      "text/plain": [
       "   Store  Dept        Date  Weekly_Sales  IsHoliday\n",
       "0      1     1  2010-02-05      24924.50      False\n",
       "1      1     1  2010-02-12      46039.49       True\n",
       "2      1     1  2010-02-19      41595.55      False\n",
       "3      1     1  2010-02-26      19403.54      False\n",
       "4      1     1  2010-03-05      21827.90      False"
      ]
     },
     "execution_count": 6,
     "metadata": {},
     "output_type": "execute_result"
    }
   ],
   "source": [
    "data.head()"
   ]
  },
  {
   "cell_type": "code",
   "execution_count": 7,
   "id": "c553cc7f",
   "metadata": {
    "execution": {
     "iopub.execute_input": "2021-08-31T08:41:50.197919Z",
     "iopub.status.busy": "2021-08-31T08:41:50.197188Z",
     "iopub.status.idle": "2021-08-31T08:41:50.200655Z",
     "shell.execute_reply": "2021-08-31T08:41:50.200254Z",
     "shell.execute_reply.started": "2021-08-31T08:23:31.380444Z"
    },
    "id": "MxkkHQzI9DVc",
    "outputId": "4170e4dd-afb1-4213-8443-f89bec6e4691",
    "papermill": {
     "duration": 0.033156,
     "end_time": "2021-08-31T08:41:50.200756",
     "exception": false,
     "start_time": "2021-08-31T08:41:50.167600",
     "status": "completed"
    },
    "tags": []
   },
   "outputs": [
    {
     "data": {
      "text/plain": [
       "(421570, 5)"
      ]
     },
     "execution_count": 7,
     "metadata": {},
     "output_type": "execute_result"
    }
   ],
   "source": [
    "data.shape"
   ]
  },
  {
   "cell_type": "code",
   "execution_count": 8,
   "id": "564fcb98",
   "metadata": {
    "execution": {
     "iopub.execute_input": "2021-08-31T08:41:50.258653Z",
     "iopub.status.busy": "2021-08-31T08:41:50.257810Z",
     "iopub.status.idle": "2021-08-31T08:41:50.311310Z",
     "shell.execute_reply": "2021-08-31T08:41:50.310709Z",
     "shell.execute_reply.started": "2021-08-31T08:23:31.394201Z"
    },
    "id": "fnNDJLbv9G9H",
    "outputId": "645c0f26-2651-4dc8-d8b5-6f1a904d0598",
    "papermill": {
     "duration": 0.084096,
     "end_time": "2021-08-31T08:41:50.311459",
     "exception": false,
     "start_time": "2021-08-31T08:41:50.227363",
     "status": "completed"
    },
    "tags": []
   },
   "outputs": [
    {
     "name": "stdout",
     "output_type": "stream",
     "text": [
      "<class 'pandas.core.frame.DataFrame'>\n",
      "RangeIndex: 421570 entries, 0 to 421569\n",
      "Data columns (total 5 columns):\n",
      " #   Column        Non-Null Count   Dtype  \n",
      "---  ------        --------------   -----  \n",
      " 0   Store         421570 non-null  int64  \n",
      " 1   Dept          421570 non-null  int64  \n",
      " 2   Date          421570 non-null  object \n",
      " 3   Weekly_Sales  421570 non-null  float64\n",
      " 4   IsHoliday     421570 non-null  bool   \n",
      "dtypes: bool(1), float64(1), int64(2), object(1)\n",
      "memory usage: 13.3+ MB\n"
     ]
    }
   ],
   "source": [
    "data.info()"
   ]
  },
  {
   "cell_type": "code",
   "execution_count": 9,
   "id": "05da4d22",
   "metadata": {
    "execution": {
     "iopub.execute_input": "2021-08-31T08:41:50.373250Z",
     "iopub.status.busy": "2021-08-31T08:41:50.372456Z",
     "iopub.status.idle": "2021-08-31T08:41:50.383187Z",
     "shell.execute_reply": "2021-08-31T08:41:50.383829Z",
     "shell.execute_reply.started": "2021-08-31T08:23:31.468166Z"
    },
    "id": "5N7VEQ9o9YeR",
    "outputId": "a31b0c1e-869d-4878-81c1-687a41989652",
    "papermill": {
     "duration": 0.04424,
     "end_time": "2021-08-31T08:41:50.384000",
     "exception": false,
     "start_time": "2021-08-31T08:41:50.339760",
     "status": "completed"
    },
    "tags": []
   },
   "outputs": [
    {
     "name": "stdout",
     "output_type": "stream",
     "text": [
      "<class 'pandas.core.frame.DataFrame'>\n",
      "RangeIndex: 8190 entries, 0 to 8189\n",
      "Data columns (total 12 columns):\n",
      " #   Column        Non-Null Count  Dtype  \n",
      "---  ------        --------------  -----  \n",
      " 0   Store         8190 non-null   int64  \n",
      " 1   Date          8190 non-null   object \n",
      " 2   Temperature   8190 non-null   float64\n",
      " 3   Fuel_Price    8190 non-null   float64\n",
      " 4   MarkDown1     4032 non-null   float64\n",
      " 5   MarkDown2     2921 non-null   float64\n",
      " 6   MarkDown3     3613 non-null   float64\n",
      " 7   MarkDown4     3464 non-null   float64\n",
      " 8   MarkDown5     4050 non-null   float64\n",
      " 9   CPI           7605 non-null   float64\n",
      " 10  Unemployment  7605 non-null   float64\n",
      " 11  IsHoliday     8190 non-null   bool   \n",
      "dtypes: bool(1), float64(9), int64(1), object(1)\n",
      "memory usage: 712.0+ KB\n"
     ]
    }
   ],
   "source": [
    "features.info()"
   ]
  },
  {
   "cell_type": "code",
   "execution_count": 10,
   "id": "1959fef5",
   "metadata": {
    "execution": {
     "iopub.execute_input": "2021-08-31T08:41:50.444423Z",
     "iopub.status.busy": "2021-08-31T08:41:50.443579Z",
     "iopub.status.idle": "2021-08-31T08:41:50.476463Z",
     "shell.execute_reply": "2021-08-31T08:41:50.475968Z",
     "shell.execute_reply.started": "2021-08-31T08:23:31.488876Z"
    },
    "id": "taL_iHxy9f9U",
    "outputId": "05ee9f4b-b049-4ce8-814d-4cb4c501ecbc",
    "papermill": {
     "duration": 0.063782,
     "end_time": "2021-08-31T08:41:50.476598",
     "exception": false,
     "start_time": "2021-08-31T08:41:50.412816",
     "status": "completed"
    },
    "tags": []
   },
   "outputs": [
    {
     "data": {
      "text/plain": [
       "Store          -0.085195\n",
       "Dept            0.148032\n",
       "Weekly_Sales    1.000000\n",
       "IsHoliday       0.012774\n",
       "Name: Weekly_Sales, dtype: float64"
      ]
     },
     "execution_count": 10,
     "metadata": {},
     "output_type": "execute_result"
    }
   ],
   "source": [
    "data.corr()['Weekly_Sales']"
   ]
  },
  {
   "cell_type": "code",
   "execution_count": 11,
   "id": "7b65b114",
   "metadata": {
    "execution": {
     "iopub.execute_input": "2021-08-31T08:41:50.542551Z",
     "iopub.status.busy": "2021-08-31T08:41:50.541665Z",
     "iopub.status.idle": "2021-08-31T08:41:50.738492Z",
     "shell.execute_reply": "2021-08-31T08:41:50.737986Z",
     "shell.execute_reply.started": "2021-08-31T08:23:31.534523Z"
    },
    "id": "A8Dby5NU9rLN",
    "papermill": {
     "duration": 0.231683,
     "end_time": "2021-08-31T08:41:50.738617",
     "exception": false,
     "start_time": "2021-08-31T08:41:50.506934",
     "status": "completed"
    },
    "tags": []
   },
   "outputs": [],
   "source": [
    "comb = data.merge(features,'left').merge(stores,'right')"
   ]
  },
  {
   "cell_type": "code",
   "execution_count": 12,
   "id": "806604f0",
   "metadata": {
    "execution": {
     "iopub.execute_input": "2021-08-31T08:41:50.833652Z",
     "iopub.status.busy": "2021-08-31T08:41:50.832710Z",
     "iopub.status.idle": "2021-08-31T08:41:50.889181Z",
     "shell.execute_reply": "2021-08-31T08:41:50.888773Z",
     "shell.execute_reply.started": "2021-08-31T08:23:31.798324Z"
    },
    "id": "N6BGTUAi-BHN",
    "outputId": "a2f02d4f-d78d-4ca7-aff9-f4fe7eed489c",
    "papermill": {
     "duration": 0.122904,
     "end_time": "2021-08-31T08:41:50.889338",
     "exception": false,
     "start_time": "2021-08-31T08:41:50.766434",
     "status": "completed"
    },
    "tags": []
   },
   "outputs": [
    {
     "name": "stdout",
     "output_type": "stream",
     "text": [
      "<class 'pandas.core.frame.DataFrame'>\n",
      "Int64Index: 421570 entries, 0 to 421569\n",
      "Data columns (total 16 columns):\n",
      " #   Column        Non-Null Count   Dtype  \n",
      "---  ------        --------------   -----  \n",
      " 0   Store         421570 non-null  int64  \n",
      " 1   Dept          421570 non-null  int64  \n",
      " 2   Date          421570 non-null  object \n",
      " 3   Weekly_Sales  421570 non-null  float64\n",
      " 4   IsHoliday     421570 non-null  bool   \n",
      " 5   Temperature   421570 non-null  float64\n",
      " 6   Fuel_Price    421570 non-null  float64\n",
      " 7   MarkDown1     150681 non-null  float64\n",
      " 8   MarkDown2     111248 non-null  float64\n",
      " 9   MarkDown3     137091 non-null  float64\n",
      " 10  MarkDown4     134967 non-null  float64\n",
      " 11  MarkDown5     151432 non-null  float64\n",
      " 12  CPI           421570 non-null  float64\n",
      " 13  Unemployment  421570 non-null  float64\n",
      " 14  Type          421570 non-null  object \n",
      " 15  Size          421570 non-null  int64  \n",
      "dtypes: bool(1), float64(10), int64(3), object(2)\n",
      "memory usage: 51.9+ MB\n"
     ]
    }
   ],
   "source": [
    "comb.info()"
   ]
  },
  {
   "cell_type": "code",
   "execution_count": 13,
   "id": "7ede984e",
   "metadata": {
    "execution": {
     "iopub.execute_input": "2021-08-31T08:41:50.952280Z",
     "iopub.status.busy": "2021-08-31T08:41:50.951109Z",
     "iopub.status.idle": "2021-08-31T08:41:51.180765Z",
     "shell.execute_reply": "2021-08-31T08:41:51.181181Z",
     "shell.execute_reply.started": "2021-08-31T08:23:31.910644Z"
    },
    "id": "qZqiCDrd_Fqz",
    "outputId": "5f707311-d4e3-47a0-a5f1-577b4ec1dab9",
    "papermill": {
     "duration": 0.262669,
     "end_time": "2021-08-31T08:41:51.181339",
     "exception": false,
     "start_time": "2021-08-31T08:41:50.918670",
     "status": "completed"
    },
    "tags": []
   },
   "outputs": [
    {
     "data": {
      "text/plain": [
       "Weekly_Sales    1.000000\n",
       "Size            0.243828\n",
       "Dept            0.148032\n",
       "MarkDown5       0.090362\n",
       "MarkDown1       0.085251\n",
       "MarkDown3       0.060385\n",
       "MarkDown4       0.045414\n",
       "MarkDown2       0.024130\n",
       "IsHoliday       0.012774\n",
       "Fuel_Price     -0.000120\n",
       "Temperature    -0.002312\n",
       "CPI            -0.020921\n",
       "Unemployment   -0.025864\n",
       "Store          -0.085195\n",
       "Name: Weekly_Sales, dtype: float64"
      ]
     },
     "execution_count": 13,
     "metadata": {},
     "output_type": "execute_result"
    }
   ],
   "source": [
    "comb.corr()['Weekly_Sales'].sort_values(ascending = False)"
   ]
  },
  {
   "cell_type": "code",
   "execution_count": 14,
   "id": "24635a1b",
   "metadata": {
    "execution": {
     "iopub.execute_input": "2021-08-31T08:41:51.276378Z",
     "iopub.status.busy": "2021-08-31T08:41:51.275490Z",
     "iopub.status.idle": "2021-08-31T08:41:51.292202Z",
     "shell.execute_reply": "2021-08-31T08:41:51.292882Z",
     "shell.execute_reply.started": "2021-08-31T08:23:32.161325Z"
    },
    "id": "Xbn4lmYL_3_8",
    "outputId": "c9ddf5d4-9a28-499b-f30e-9ba1e32d1253",
    "papermill": {
     "duration": 0.080397,
     "end_time": "2021-08-31T08:41:51.293080",
     "exception": false,
     "start_time": "2021-08-31T08:41:51.212683",
     "status": "completed"
    },
    "tags": []
   },
   "outputs": [
    {
     "data": {
      "text/html": [
       "<div>\n",
       "<style scoped>\n",
       "    .dataframe tbody tr th:only-of-type {\n",
       "        vertical-align: middle;\n",
       "    }\n",
       "\n",
       "    .dataframe tbody tr th {\n",
       "        vertical-align: top;\n",
       "    }\n",
       "\n",
       "    .dataframe thead th {\n",
       "        text-align: right;\n",
       "    }\n",
       "</style>\n",
       "<table border=\"1\" class=\"dataframe\">\n",
       "  <thead>\n",
       "    <tr style=\"text-align: right;\">\n",
       "      <th></th>\n",
       "      <th>Store</th>\n",
       "      <th>Dept</th>\n",
       "      <th>Date</th>\n",
       "      <th>Weekly_Sales</th>\n",
       "      <th>IsHoliday</th>\n",
       "      <th>Temperature</th>\n",
       "      <th>Fuel_Price</th>\n",
       "      <th>MarkDown1</th>\n",
       "      <th>MarkDown2</th>\n",
       "      <th>MarkDown3</th>\n",
       "      <th>MarkDown4</th>\n",
       "      <th>MarkDown5</th>\n",
       "      <th>CPI</th>\n",
       "      <th>Unemployment</th>\n",
       "      <th>Type</th>\n",
       "      <th>Size</th>\n",
       "    </tr>\n",
       "  </thead>\n",
       "  <tbody>\n",
       "    <tr>\n",
       "      <th>0</th>\n",
       "      <td>1</td>\n",
       "      <td>1</td>\n",
       "      <td>2010-02-05</td>\n",
       "      <td>24924.50</td>\n",
       "      <td>False</td>\n",
       "      <td>42.31</td>\n",
       "      <td>2.572</td>\n",
       "      <td>NaN</td>\n",
       "      <td>NaN</td>\n",
       "      <td>NaN</td>\n",
       "      <td>NaN</td>\n",
       "      <td>NaN</td>\n",
       "      <td>211.096358</td>\n",
       "      <td>8.106</td>\n",
       "      <td>A</td>\n",
       "      <td>151315</td>\n",
       "    </tr>\n",
       "    <tr>\n",
       "      <th>1</th>\n",
       "      <td>1</td>\n",
       "      <td>1</td>\n",
       "      <td>2010-02-12</td>\n",
       "      <td>46039.49</td>\n",
       "      <td>True</td>\n",
       "      <td>38.51</td>\n",
       "      <td>2.548</td>\n",
       "      <td>NaN</td>\n",
       "      <td>NaN</td>\n",
       "      <td>NaN</td>\n",
       "      <td>NaN</td>\n",
       "      <td>NaN</td>\n",
       "      <td>211.242170</td>\n",
       "      <td>8.106</td>\n",
       "      <td>A</td>\n",
       "      <td>151315</td>\n",
       "    </tr>\n",
       "    <tr>\n",
       "      <th>2</th>\n",
       "      <td>1</td>\n",
       "      <td>1</td>\n",
       "      <td>2010-02-19</td>\n",
       "      <td>41595.55</td>\n",
       "      <td>False</td>\n",
       "      <td>39.93</td>\n",
       "      <td>2.514</td>\n",
       "      <td>NaN</td>\n",
       "      <td>NaN</td>\n",
       "      <td>NaN</td>\n",
       "      <td>NaN</td>\n",
       "      <td>NaN</td>\n",
       "      <td>211.289143</td>\n",
       "      <td>8.106</td>\n",
       "      <td>A</td>\n",
       "      <td>151315</td>\n",
       "    </tr>\n",
       "    <tr>\n",
       "      <th>3</th>\n",
       "      <td>1</td>\n",
       "      <td>1</td>\n",
       "      <td>2010-02-26</td>\n",
       "      <td>19403.54</td>\n",
       "      <td>False</td>\n",
       "      <td>46.63</td>\n",
       "      <td>2.561</td>\n",
       "      <td>NaN</td>\n",
       "      <td>NaN</td>\n",
       "      <td>NaN</td>\n",
       "      <td>NaN</td>\n",
       "      <td>NaN</td>\n",
       "      <td>211.319643</td>\n",
       "      <td>8.106</td>\n",
       "      <td>A</td>\n",
       "      <td>151315</td>\n",
       "    </tr>\n",
       "    <tr>\n",
       "      <th>4</th>\n",
       "      <td>1</td>\n",
       "      <td>1</td>\n",
       "      <td>2010-03-05</td>\n",
       "      <td>21827.90</td>\n",
       "      <td>False</td>\n",
       "      <td>46.50</td>\n",
       "      <td>2.625</td>\n",
       "      <td>NaN</td>\n",
       "      <td>NaN</td>\n",
       "      <td>NaN</td>\n",
       "      <td>NaN</td>\n",
       "      <td>NaN</td>\n",
       "      <td>211.350143</td>\n",
       "      <td>8.106</td>\n",
       "      <td>A</td>\n",
       "      <td>151315</td>\n",
       "    </tr>\n",
       "  </tbody>\n",
       "</table>\n",
       "</div>"
      ],
      "text/plain": [
       "   Store  Dept        Date  Weekly_Sales  IsHoliday  Temperature  Fuel_Price  \\\n",
       "0      1     1  2010-02-05      24924.50      False        42.31       2.572   \n",
       "1      1     1  2010-02-12      46039.49       True        38.51       2.548   \n",
       "2      1     1  2010-02-19      41595.55      False        39.93       2.514   \n",
       "3      1     1  2010-02-26      19403.54      False        46.63       2.561   \n",
       "4      1     1  2010-03-05      21827.90      False        46.50       2.625   \n",
       "\n",
       "   MarkDown1  MarkDown2  MarkDown3  MarkDown4  MarkDown5         CPI  \\\n",
       "0        NaN        NaN        NaN        NaN        NaN  211.096358   \n",
       "1        NaN        NaN        NaN        NaN        NaN  211.242170   \n",
       "2        NaN        NaN        NaN        NaN        NaN  211.289143   \n",
       "3        NaN        NaN        NaN        NaN        NaN  211.319643   \n",
       "4        NaN        NaN        NaN        NaN        NaN  211.350143   \n",
       "\n",
       "   Unemployment Type    Size  \n",
       "0         8.106    A  151315  \n",
       "1         8.106    A  151315  \n",
       "2         8.106    A  151315  \n",
       "3         8.106    A  151315  \n",
       "4         8.106    A  151315  "
      ]
     },
     "execution_count": 14,
     "metadata": {},
     "output_type": "execute_result"
    }
   ],
   "source": [
    "comb.head()"
   ]
  },
  {
   "cell_type": "code",
   "execution_count": 15,
   "id": "7d94fe7e",
   "metadata": {
    "execution": {
     "iopub.execute_input": "2021-08-31T08:41:51.381393Z",
     "iopub.status.busy": "2021-08-31T08:41:51.380810Z",
     "iopub.status.idle": "2021-08-31T08:41:51.651729Z",
     "shell.execute_reply": "2021-08-31T08:41:51.652160Z",
     "shell.execute_reply.started": "2021-08-31T08:23:32.186277Z"
    },
    "id": "maA76SSvCGT0",
    "outputId": "66dbd378-df7e-4ebb-ac4f-0337e8054a98",
    "papermill": {
     "duration": 0.316432,
     "end_time": "2021-08-31T08:41:51.652317",
     "exception": false,
     "start_time": "2021-08-31T08:41:51.335885",
     "status": "completed"
    },
    "tags": []
   },
   "outputs": [
    {
     "data": {
      "text/plain": [
       "(array([2.2824e+05, 1.0044e+05, 3.9914e+04, 2.1844e+04, 1.2686e+04,\n",
       "        7.5590e+03, 4.3320e+03, 2.3650e+03, 1.4960e+03, 8.1800e+02,\n",
       "        6.6700e+02, 5.1200e+02, 3.0900e+02, 1.6700e+02, 7.2000e+01,\n",
       "        4.3000e+01, 2.5000e+01, 1.8000e+01, 7.0000e+00, 1.2000e+01,\n",
       "        2.0000e+00, 8.0000e+00, 3.0000e+00, 2.0000e+00, 4.0000e+00,\n",
       "        7.0000e+00, 4.0000e+00, 3.0000e+00, 2.0000e+00, 2.0000e+00,\n",
       "        2.0000e+00, 0.0000e+00, 0.0000e+00, 0.0000e+00, 1.0000e+00,\n",
       "        0.0000e+00, 0.0000e+00, 0.0000e+00, 0.0000e+00, 0.0000e+00,\n",
       "        0.0000e+00, 0.0000e+00, 0.0000e+00, 0.0000e+00, 0.0000e+00,\n",
       "        2.0000e+00, 1.0000e+00, 0.0000e+00, 0.0000e+00, 1.0000e+00]),\n",
       " array([ -4988.94 ,   8972.826,  22934.592,  36896.358,  50858.124,\n",
       "         64819.89 ,  78781.656,  92743.422, 106705.188, 120666.954,\n",
       "        134628.72 , 148590.486, 162552.252, 176514.018, 190475.784,\n",
       "        204437.55 , 218399.316, 232361.082, 246322.848, 260284.614,\n",
       "        274246.38 , 288208.146, 302169.912, 316131.678, 330093.444,\n",
       "        344055.21 , 358016.976, 371978.742, 385940.508, 399902.274,\n",
       "        413864.04 , 427825.806, 441787.572, 455749.338, 469711.104,\n",
       "        483672.87 , 497634.636, 511596.402, 525558.168, 539519.934,\n",
       "        553481.7  , 567443.466, 581405.232, 595366.998, 609328.764,\n",
       "        623290.53 , 637252.296, 651214.062, 665175.828, 679137.594,\n",
       "        693099.36 ]),\n",
       " <BarContainer object of 50 artists>)"
      ]
     },
     "execution_count": 15,
     "metadata": {},
     "output_type": "execute_result"
    },
    {
     "data": {
      "image/png": "[encoded data removed]",
      "text/plain": [
       "<Figure size 432x288 with 1 Axes>"
      ]
     },
     "metadata": {
      "needs_background": "light"
     },
     "output_type": "display_data"
    }
   ],
   "source": [
    "plt.hist(comb['Weekly_Sales'],bins=50)"
   ]
  },
  {
   "cell_type": "code",
   "execution_count": 16,
   "id": "ced51056",
   "metadata": {
    "execution": {
     "iopub.execute_input": "2021-08-31T08:41:51.748130Z",
     "iopub.status.busy": "2021-08-31T08:41:51.742865Z",
     "iopub.status.idle": "2021-08-31T08:41:52.166929Z",
     "shell.execute_reply": "2021-08-31T08:41:52.167353Z",
     "shell.execute_reply.started": "2021-08-31T08:23:32.527834Z"
    },
    "id": "HBskFkCwdJ11",
    "papermill": {
     "duration": 0.484185,
     "end_time": "2021-08-31T08:41:52.167517",
     "exception": false,
     "start_time": "2021-08-31T08:41:51.683332",
     "status": "completed"
    },
    "tags": []
   },
   "outputs": [],
   "source": [
    "yr = []\n",
    "for i in comb['Date']:\n",
    "  yr.append(int(i.split('-')[0]))\n",
    "\n",
    "comb['year'] = yr"
   ]
  },
  {
   "cell_type": "code",
   "execution_count": 17,
   "id": "706732fa",
   "metadata": {
    "execution": {
     "iopub.execute_input": "2021-08-31T08:41:52.250704Z",
     "iopub.status.busy": "2021-08-31T08:41:52.240547Z",
     "iopub.status.idle": "2021-08-31T08:41:52.667746Z",
     "shell.execute_reply": "2021-08-31T08:41:52.667273Z",
     "shell.execute_reply.started": "2021-08-31T08:23:33.054848Z"
    },
    "id": "nu1Rknr3d8fr",
    "papermill": {
     "duration": 0.469694,
     "end_time": "2021-08-31T08:41:52.667874",
     "exception": false,
     "start_time": "2021-08-31T08:41:52.198180",
     "status": "completed"
    },
    "tags": []
   },
   "outputs": [],
   "source": [
    "mn = []\n",
    "for i in comb['Date']:\n",
    "  mn.append(int(i.split('-')[1]))\n",
    "\n",
    "comb['month'] = mn"
   ]
  },
  {
   "cell_type": "code",
   "execution_count": 18,
   "id": "f1285166",
   "metadata": {
    "execution": {
     "iopub.execute_input": "2021-08-31T08:41:52.760649Z",
     "iopub.status.busy": "2021-08-31T08:41:52.745340Z",
     "iopub.status.idle": "2021-08-31T08:41:53.242981Z",
     "shell.execute_reply": "2021-08-31T08:41:53.243765Z",
     "shell.execute_reply.started": "2021-08-31T08:23:33.572416Z"
    },
    "id": "UEZiJ81cd9WC",
    "papermill": {
     "duration": 0.545785,
     "end_time": "2021-08-31T08:41:53.243920",
     "exception": false,
     "start_time": "2021-08-31T08:41:52.698135",
     "status": "completed"
    },
    "tags": []
   },
   "outputs": [],
   "source": [
    "da = []\n",
    "for i in comb['Date']:\n",
    "  da.append(int(i.split('-')[2]))\n",
    "\n",
    "comb['day'] = da"
   ]
  },
  {
   "cell_type": "code",
   "execution_count": 19,
   "id": "ba838a85",
   "metadata": {
    "execution": {
     "iopub.execute_input": "2021-08-31T08:41:53.353984Z",
     "iopub.status.busy": "2021-08-31T08:41:53.353074Z",
     "iopub.status.idle": "2021-08-31T08:41:53.448912Z",
     "shell.execute_reply": "2021-08-31T08:41:53.449655Z",
     "shell.execute_reply.started": "2021-08-31T08:23:34.091625Z"
    },
    "id": "pFvRhCdUeu2g",
    "papermill": {
     "duration": 0.155261,
     "end_time": "2021-08-31T08:41:53.449859",
     "exception": false,
     "start_time": "2021-08-31T08:41:53.294598",
     "status": "completed"
    },
    "tags": []
   },
   "outputs": [],
   "source": [
    "comb1 = comb.copy()\n",
    "comb1.drop(columns=['Date'], inplace=True)"
   ]
  },
  {
   "cell_type": "code",
   "execution_count": 20,
   "id": "37261bfb",
   "metadata": {
    "execution": {
     "iopub.execute_input": "2021-08-31T08:41:53.559022Z",
     "iopub.status.busy": "2021-08-31T08:41:53.557973Z",
     "iopub.status.idle": "2021-08-31T08:41:53.640610Z",
     "shell.execute_reply": "2021-08-31T08:41:53.639768Z",
     "shell.execute_reply.started": "2021-08-31T08:23:34.198875Z"
    },
    "id": "55sl2Ym9PQWS",
    "outputId": "7ffb56a2-0070-45d5-fad5-2c3fd31e9122",
    "papermill": {
     "duration": 0.141239,
     "end_time": "2021-08-31T08:41:53.640745",
     "exception": false,
     "start_time": "2021-08-31T08:41:53.499506",
     "status": "completed"
    },
    "tags": []
   },
   "outputs": [
    {
     "data": {
      "text/html": [
       "<div>\n",
       "<style scoped>\n",
       "    .dataframe tbody tr th:only-of-type {\n",
       "        vertical-align: middle;\n",
       "    }\n",
       "\n",
       "    .dataframe tbody tr th {\n",
       "        vertical-align: top;\n",
       "    }\n",
       "\n",
       "    .dataframe thead th {\n",
       "        text-align: right;\n",
       "    }\n",
       "</style>\n",
       "<table border=\"1\" class=\"dataframe\">\n",
       "  <thead>\n",
       "    <tr style=\"text-align: right;\">\n",
       "      <th></th>\n",
       "      <th>Store</th>\n",
       "      <th>Dept</th>\n",
       "      <th>Weekly_Sales</th>\n",
       "      <th>IsHoliday</th>\n",
       "      <th>Temperature</th>\n",
       "      <th>Fuel_Price</th>\n",
       "      <th>MarkDown1</th>\n",
       "      <th>MarkDown2</th>\n",
       "      <th>MarkDown3</th>\n",
       "      <th>MarkDown4</th>\n",
       "      <th>MarkDown5</th>\n",
       "      <th>CPI</th>\n",
       "      <th>Unemployment</th>\n",
       "      <th>Size</th>\n",
       "      <th>year</th>\n",
       "      <th>day</th>\n",
       "    </tr>\n",
       "    <tr>\n",
       "      <th>month</th>\n",
       "      <th></th>\n",
       "      <th></th>\n",
       "      <th></th>\n",
       "      <th></th>\n",
       "      <th></th>\n",
       "      <th></th>\n",
       "      <th></th>\n",
       "      <th></th>\n",
       "      <th></th>\n",
       "      <th></th>\n",
       "      <th></th>\n",
       "      <th></th>\n",
       "      <th></th>\n",
       "      <th></th>\n",
       "      <th></th>\n",
       "      <th></th>\n",
       "    </tr>\n",
       "  </thead>\n",
       "  <tbody>\n",
       "    <tr>\n",
       "      <th>1</th>\n",
       "      <td>521937</td>\n",
       "      <td>1039038</td>\n",
       "      <td>3.325984e+08</td>\n",
       "      <td>0</td>\n",
       "      <td>870223.47</td>\n",
       "      <td>76367.351</td>\n",
       "      <td>3.682163e+07</td>\n",
       "      <td>1.112372e+08</td>\n",
       "      <td>9.992948e+05</td>\n",
       "      <td>6.882204e+06</td>\n",
       "      <td>4.326050e+07</td>\n",
       "      <td>4.029965e+06</td>\n",
       "      <td>185014.150</td>\n",
       "      <td>3219984603</td>\n",
       "      <td>47360845</td>\n",
       "      <td>399792</td>\n",
       "    </tr>\n",
       "    <tr>\n",
       "      <th>2</th>\n",
       "      <td>786209</td>\n",
       "      <td>1573438</td>\n",
       "      <td>5.687279e+08</td>\n",
       "      <td>8895</td>\n",
       "      <td>1358254.43</td>\n",
       "      <td>111372.346</td>\n",
       "      <td>2.108105e+08</td>\n",
       "      <td>6.519521e+07</td>\n",
       "      <td>7.403472e+05</td>\n",
       "      <td>1.477809e+08</td>\n",
       "      <td>7.233209e+07</td>\n",
       "      <td>6.050472e+06</td>\n",
       "      <td>287621.161</td>\n",
       "      <td>4865006193</td>\n",
       "      <td>71442893</td>\n",
       "      <td>514992</td>\n",
       "    </tr>\n",
       "    <tr>\n",
       "      <th>3</th>\n",
       "      <td>852548</td>\n",
       "      <td>1698192</td>\n",
       "      <td>5.927859e+08</td>\n",
       "      <td>0</td>\n",
       "      <td>1894945.71</td>\n",
       "      <td>131072.731</td>\n",
       "      <td>1.271615e+08</td>\n",
       "      <td>7.609068e+06</td>\n",
       "      <td>1.390271e+05</td>\n",
       "      <td>5.579204e+07</td>\n",
       "      <td>4.974710e+07</td>\n",
       "      <td>6.578496e+06</td>\n",
       "      <td>309622.494</td>\n",
       "      <td>5257312710</td>\n",
       "      <td>77328023</td>\n",
       "      <td>590878</td>\n",
       "    </tr>\n",
       "    <tr>\n",
       "      <th>4</th>\n",
       "      <td>917150</td>\n",
       "      <td>1823191</td>\n",
       "      <td>6.468598e+08</td>\n",
       "      <td>0</td>\n",
       "      <td>2359336.47</td>\n",
       "      <td>144990.329</td>\n",
       "      <td>6.510115e+07</td>\n",
       "      <td>2.327375e+07</td>\n",
       "      <td>3.043138e+05</td>\n",
       "      <td>1.408803e+07</td>\n",
       "      <td>4.210507e+07</td>\n",
       "      <td>7.056174e+06</td>\n",
       "      <td>331696.064</td>\n",
       "      <td>5653647559</td>\n",
       "      <td>83115844</td>\n",
       "      <td>651821</td>\n",
       "    </tr>\n",
       "    <tr>\n",
       "      <th>5</th>\n",
       "      <td>784491</td>\n",
       "      <td>1564694</td>\n",
       "      <td>5.571256e+08</td>\n",
       "      <td>0</td>\n",
       "      <td>2294049.56</td>\n",
       "      <td>126442.259</td>\n",
       "      <td>1.026039e+08</td>\n",
       "      <td>2.051020e+05</td>\n",
       "      <td>1.848232e+06</td>\n",
       "      <td>2.505654e+07</td>\n",
       "      <td>3.885003e+07</td>\n",
       "      <td>6.044468e+06</td>\n",
       "      <td>281903.009</td>\n",
       "      <td>4831206158</td>\n",
       "      <td>71016604</td>\n",
       "      <td>569757</td>\n",
       "    </tr>\n",
       "    <tr>\n",
       "      <th>6</th>\n",
       "      <td>847751</td>\n",
       "      <td>1693038</td>\n",
       "      <td>6.226299e+08</td>\n",
       "      <td>0</td>\n",
       "      <td>2850174.48</td>\n",
       "      <td>130593.501</td>\n",
       "      <td>9.365420e+07</td>\n",
       "      <td>2.871815e+06</td>\n",
       "      <td>7.051402e+05</td>\n",
       "      <td>2.352558e+07</td>\n",
       "      <td>7.440216e+07</td>\n",
       "      <td>6.540068e+06</td>\n",
       "      <td>302720.364</td>\n",
       "      <td>5214425748</td>\n",
       "      <td>76696599</td>\n",
       "      <td>548815</td>\n",
       "    </tr>\n",
       "    <tr>\n",
       "      <th>7</th>\n",
       "      <td>911769</td>\n",
       "      <td>1818903</td>\n",
       "      <td>6.500010e+08</td>\n",
       "      <td>0</td>\n",
       "      <td>3252072.01</td>\n",
       "      <td>135750.638</td>\n",
       "      <td>5.930780e+07</td>\n",
       "      <td>1.536003e+06</td>\n",
       "      <td>3.145163e+05</td>\n",
       "      <td>3.864670e+07</td>\n",
       "      <td>6.854730e+07</td>\n",
       "      <td>7.009632e+06</td>\n",
       "      <td>325136.892</td>\n",
       "      <td>5601287100</td>\n",
       "      <td>82408017</td>\n",
       "      <td>646531</td>\n",
       "    </tr>\n",
       "    <tr>\n",
       "      <th>8</th>\n",
       "      <td>849330</td>\n",
       "      <td>1694546</td>\n",
       "      <td>6.130902e+08</td>\n",
       "      <td>0</td>\n",
       "      <td>3008396.30</td>\n",
       "      <td>130432.408</td>\n",
       "      <td>1.634400e+08</td>\n",
       "      <td>1.135779e+06</td>\n",
       "      <td>5.778445e+05</td>\n",
       "      <td>8.066786e+07</td>\n",
       "      <td>5.505256e+07</td>\n",
       "      <td>6.559005e+06</td>\n",
       "      <td>299025.787</td>\n",
       "      <td>5219754709</td>\n",
       "      <td>76761057</td>\n",
       "      <td>625592</td>\n",
       "    </tr>\n",
       "    <tr>\n",
       "      <th>9</th>\n",
       "      <td>851964</td>\n",
       "      <td>1692532</td>\n",
       "      <td>5.787612e+08</td>\n",
       "      <td>8861</td>\n",
       "      <td>2756289.57</td>\n",
       "      <td>131732.167</td>\n",
       "      <td>8.442547e+07</td>\n",
       "      <td>3.224239e+05</td>\n",
       "      <td>4.399078e+05</td>\n",
       "      <td>1.878868e+07</td>\n",
       "      <td>6.038453e+07</td>\n",
       "      <td>6.588184e+06</td>\n",
       "      <td>302755.403</td>\n",
       "      <td>5242060031</td>\n",
       "      <td>77099859</td>\n",
       "      <td>601881</td>\n",
       "    </tr>\n",
       "    <tr>\n",
       "      <th>10</th>\n",
       "      <td>851387</td>\n",
       "      <td>1695101</td>\n",
       "      <td>5.847848e+08</td>\n",
       "      <td>0</td>\n",
       "      <td>2340535.27</td>\n",
       "      <td>128600.595</td>\n",
       "      <td>4.111553e+07</td>\n",
       "      <td>2.035002e+05</td>\n",
       "      <td>3.429935e+05</td>\n",
       "      <td>1.316182e+07</td>\n",
       "      <td>4.289315e+07</td>\n",
       "      <td>6.598040e+06</td>\n",
       "      <td>297892.914</td>\n",
       "      <td>5236087743</td>\n",
       "      <td>77143190</td>\n",
       "      <td>610627</td>\n",
       "    </tr>\n",
       "    <tr>\n",
       "      <th>11</th>\n",
       "      <td>523532</td>\n",
       "      <td>1043287</td>\n",
       "      <td>4.130157e+08</td>\n",
       "      <td>5959</td>\n",
       "      <td>1166311.52</td>\n",
       "      <td>75279.661</td>\n",
       "      <td>5.438608e+07</td>\n",
       "      <td>3.115649e+07</td>\n",
       "      <td>1.730382e+08</td>\n",
       "      <td>1.308325e+07</td>\n",
       "      <td>3.791960e+07</td>\n",
       "      <td>4.029373e+06</td>\n",
       "      <td>191118.849</td>\n",
       "      <td>3229569483</td>\n",
       "      <td>47474031</td>\n",
       "      <td>354832</td>\n",
       "    </tr>\n",
       "    <tr>\n",
       "      <th>12</th>\n",
       "      <td>661016</td>\n",
       "      <td>1322862</td>\n",
       "      <td>5.768386e+08</td>\n",
       "      <td>5946</td>\n",
       "      <td>1181577.27</td>\n",
       "      <td>94273.967</td>\n",
       "      <td>5.307015e+07</td>\n",
       "      <td>1.262244e+08</td>\n",
       "      <td>1.788188e+07</td>\n",
       "      <td>1.914244e+07</td>\n",
       "      <td>1.154809e+08</td>\n",
       "      <td>5.089726e+06</td>\n",
       "      <td>241311.818</td>\n",
       "      <td>4070045401</td>\n",
       "      <td>59917067</td>\n",
       "      <td>491804</td>\n",
       "    </tr>\n",
       "  </tbody>\n",
       "</table>\n",
       "</div>"
      ],
      "text/plain": [
       "        Store     Dept  Weekly_Sales  IsHoliday  Temperature  Fuel_Price  \\\n",
       "month                                                                      \n",
       "1      521937  1039038  3.325984e+08          0    870223.47   76367.351   \n",
       "2      786209  1573438  5.687279e+08       8895   1358254.43  111372.346   \n",
       "3      852548  1698192  5.927859e+08          0   1894945.71  131072.731   \n",
       "4      917150  1823191  6.468598e+08          0   2359336.47  144990.329   \n",
       "5      784491  1564694  5.571256e+08          0   2294049.56  126442.259   \n",
       "6      847751  1693038  6.226299e+08          0   2850174.48  130593.501   \n",
       "7      911769  1818903  6.500010e+08          0   3252072.01  135750.638   \n",
       "8      849330  1694546  6.130902e+08          0   3008396.30  130432.408   \n",
       "9      851964  1692532  5.787612e+08       8861   2756289.57  131732.167   \n",
       "10     851387  1695101  5.847848e+08          0   2340535.27  128600.595   \n",
       "11     523532  1043287  4.130157e+08       5959   1166311.52   75279.661   \n",
       "12     661016  1322862  5.768386e+08       5946   1181577.27   94273.967   \n",
       "\n",
       "          MarkDown1     MarkDown2     MarkDown3     MarkDown4     MarkDown5  \\\n",
       "month                                                                         \n",
       "1      3.682163e+07  1.112372e+08  9.992948e+05  6.882204e+06  4.326050e+07   \n",
       "2      2.108105e+08  6.519521e+07  7.403472e+05  1.477809e+08  7.233209e+07   \n",
       "3      1.271615e+08  7.609068e+06  1.390271e+05  5.579204e+07  4.974710e+07   \n",
       "4      6.510115e+07  2.327375e+07  3.043138e+05  1.408803e+07  4.210507e+07   \n",
       "5      1.026039e+08  2.051020e+05  1.848232e+06  2.505654e+07  3.885003e+07   \n",
       "6      9.365420e+07  2.871815e+06  7.051402e+05  2.352558e+07  7.440216e+07   \n",
       "7      5.930780e+07  1.536003e+06  3.145163e+05  3.864670e+07  6.854730e+07   \n",
       "8      1.634400e+08  1.135779e+06  5.778445e+05  8.066786e+07  5.505256e+07   \n",
       "9      8.442547e+07  3.224239e+05  4.399078e+05  1.878868e+07  6.038453e+07   \n",
       "10     4.111553e+07  2.035002e+05  3.429935e+05  1.316182e+07  4.289315e+07   \n",
       "11     5.438608e+07  3.115649e+07  1.730382e+08  1.308325e+07  3.791960e+07   \n",
       "12     5.307015e+07  1.262244e+08  1.788188e+07  1.914244e+07  1.154809e+08   \n",
       "\n",
       "                CPI  Unemployment        Size      year     day  \n",
       "month                                                            \n",
       "1      4.029965e+06    185014.150  3219984603  47360845  399792  \n",
       "2      6.050472e+06    287621.161  4865006193  71442893  514992  \n",
       "3      6.578496e+06    309622.494  5257312710  77328023  590878  \n",
       "4      7.056174e+06    331696.064  5653647559  83115844  651821  \n",
       "5      6.044468e+06    281903.009  4831206158  71016604  569757  \n",
       "6      6.540068e+06    302720.364  5214425748  76696599  548815  \n",
       "7      7.009632e+06    325136.892  5601287100  82408017  646531  \n",
       "8      6.559005e+06    299025.787  5219754709  76761057  625592  \n",
       "9      6.588184e+06    302755.403  5242060031  77099859  601881  \n",
       "10     6.598040e+06    297892.914  5236087743  77143190  610627  \n",
       "11     4.029373e+06    191118.849  3229569483  47474031  354832  \n",
       "12     5.089726e+06    241311.818  4070045401  59917067  491804  "
      ]
     },
     "execution_count": 20,
     "metadata": {},
     "output_type": "execute_result"
    }
   ],
   "source": [
    "comb1.groupby(['month']).sum()"
   ]
  },
  {
   "cell_type": "code",
   "execution_count": 21,
   "id": "f04cd2ad",
   "metadata": {
    "execution": {
     "iopub.execute_input": "2021-08-31T08:41:53.723180Z",
     "iopub.status.busy": "2021-08-31T08:41:53.722395Z",
     "iopub.status.idle": "2021-08-31T08:41:53.963493Z",
     "shell.execute_reply": "2021-08-31T08:41:53.963875Z",
     "shell.execute_reply.started": "2021-08-31T08:23:34.284209Z"
    },
    "id": "Xx15kBv_OqPF",
    "outputId": "f02e9ffc-f9bb-4166-9a86-41e7386df300",
    "papermill": {
     "duration": 0.292413,
     "end_time": "2021-08-31T08:41:53.964030",
     "exception": false,
     "start_time": "2021-08-31T08:41:53.671617",
     "status": "completed"
    },
    "tags": []
   },
   "outputs": [
    {
     "data": {
      "text/plain": [
       "Text(0, 0.5, 'Average sales for a year')"
      ]
     },
     "execution_count": 21,
     "metadata": {},
     "output_type": "execute_result"
    },
    {
     "data": {
      "image/png": "[encoded data removed]",
      "text/plain": [
       "<Figure size 432x288 with 1 Axes>"
      ]
     },
     "metadata": {
      "needs_background": "light"
     },
     "output_type": "display_data"
    }
   ],
   "source": [
    "plt.bar(comb1.groupby(['month']).sum().index,comb1.groupby(['month']).sum()['Weekly_Sales']/3)\n",
    "plt.xlabel('Month of a year')\n",
    "plt.ylabel('Average sales for a year')"
   ]
  },
  {
   "cell_type": "code",
   "execution_count": 22,
   "id": "b90a6fc2",
   "metadata": {
    "execution": {
     "iopub.execute_input": "2021-08-31T08:41:54.031529Z",
     "iopub.status.busy": "2021-08-31T08:41:54.030533Z",
     "iopub.status.idle": "2021-08-31T08:41:54.286261Z",
     "shell.execute_reply": "2021-08-31T08:41:54.286722Z",
     "shell.execute_reply.started": "2021-08-31T08:23:34.601647Z"
    },
    "id": "h7CUnjsDe0Q_",
    "outputId": "e951aa00-35ad-4491-d514-c8d6be95413c",
    "papermill": {
     "duration": 0.291562,
     "end_time": "2021-08-31T08:41:54.286875",
     "exception": false,
     "start_time": "2021-08-31T08:41:53.995313",
     "status": "completed"
    },
    "tags": []
   },
   "outputs": [
    {
     "data": {
      "text/plain": [
       "Weekly_Sales    1.000000\n",
       "Size            0.243828\n",
       "Dept            0.148032\n",
       "MarkDown5       0.090362\n",
       "MarkDown1       0.085251\n",
       "MarkDown3       0.060385\n",
       "MarkDown4       0.045414\n",
       "month           0.028409\n",
       "MarkDown2       0.024130\n",
       "IsHoliday       0.012774\n",
       "Fuel_Price     -0.000120\n",
       "Temperature    -0.002312\n",
       "day            -0.006187\n",
       "year           -0.010111\n",
       "CPI            -0.020921\n",
       "Unemployment   -0.025864\n",
       "Store          -0.085195\n",
       "Name: Weekly_Sales, dtype: float64"
      ]
     },
     "execution_count": 22,
     "metadata": {},
     "output_type": "execute_result"
    }
   ],
   "source": [
    "comb1.corr()['Weekly_Sales'].sort_values(ascending = False)"
   ]
  },
  {
   "cell_type": "code",
   "execution_count": 23,
   "id": "f86e6c1c",
   "metadata": {
    "execution": {
     "iopub.execute_input": "2021-08-31T08:41:54.354694Z",
     "iopub.status.busy": "2021-08-31T08:41:54.354046Z",
     "iopub.status.idle": "2021-08-31T08:41:55.209514Z",
     "shell.execute_reply": "2021-08-31T08:41:55.209920Z",
     "shell.execute_reply.started": "2021-08-31T08:23:34.915725Z"
    },
    "id": "644QYQ1TjKjs",
    "papermill": {
     "duration": 0.890909,
     "end_time": "2021-08-31T08:41:55.210086",
     "exception": false,
     "start_time": "2021-08-31T08:41:54.319177",
     "status": "completed"
    },
    "tags": []
   },
   "outputs": [],
   "source": [
    "from sklearn.impute import SimpleImputer\n",
    "\n",
    "imputer = SimpleImputer(strategy = \"median\")"
   ]
  },
  {
   "cell_type": "code",
   "execution_count": 24,
   "id": "355ac777",
   "metadata": {
    "execution": {
     "iopub.execute_input": "2021-08-31T08:41:55.285403Z",
     "iopub.status.busy": "2021-08-31T08:41:55.283767Z",
     "iopub.status.idle": "2021-08-31T08:41:55.335372Z",
     "shell.execute_reply": "2021-08-31T08:41:55.334888Z",
     "shell.execute_reply.started": "2021-08-31T08:23:34.931896Z"
    },
    "id": "fZwo-5X5jZnj",
    "papermill": {
     "duration": 0.09236,
     "end_time": "2021-08-31T08:41:55.335498",
     "exception": false,
     "start_time": "2021-08-31T08:41:55.243138",
     "status": "completed"
    },
    "tags": []
   },
   "outputs": [],
   "source": [
    "inter = comb.drop(columns = ['Date','IsHoliday','Type'])"
   ]
  },
  {
   "cell_type": "code",
   "execution_count": 25,
   "id": "3eac7689",
   "metadata": {
    "execution": {
     "iopub.execute_input": "2021-08-31T08:41:55.405185Z",
     "iopub.status.busy": "2021-08-31T08:41:55.404245Z",
     "iopub.status.idle": "2021-08-31T08:41:56.113945Z",
     "shell.execute_reply": "2021-08-31T08:41:56.114376Z",
     "shell.execute_reply.started": "2021-08-31T08:23:34.997177Z"
    },
    "id": "_EAeEagejaaY",
    "outputId": "8554e402-252f-4e09-bc6d-76f20d3b4fbb",
    "papermill": {
     "duration": 0.747305,
     "end_time": "2021-08-31T08:41:56.114531",
     "exception": false,
     "start_time": "2021-08-31T08:41:55.367226",
     "status": "completed"
    },
    "tags": []
   },
   "outputs": [
    {
     "data": {
      "text/plain": [
       "SimpleImputer(strategy='median')"
      ]
     },
     "execution_count": 25,
     "metadata": {},
     "output_type": "execute_result"
    }
   ],
   "source": [
    "imputer.fit(inter)"
   ]
  },
  {
   "cell_type": "code",
   "execution_count": 26,
   "id": "f1b4d690",
   "metadata": {
    "execution": {
     "iopub.execute_input": "2021-08-31T08:41:56.184068Z",
     "iopub.status.busy": "2021-08-31T08:41:56.183141Z",
     "iopub.status.idle": "2021-08-31T08:41:56.283355Z",
     "shell.execute_reply": "2021-08-31T08:41:56.283773Z",
     "shell.execute_reply.started": "2021-08-31T08:23:35.902929Z"
    },
    "id": "H4IluABwjwUv",
    "papermill": {
     "duration": 0.137568,
     "end_time": "2021-08-31T08:41:56.283930",
     "exception": false,
     "start_time": "2021-08-31T08:41:56.146362",
     "status": "completed"
    },
    "tags": []
   },
   "outputs": [],
   "source": [
    "my = imputer.transform(inter)"
   ]
  },
  {
   "cell_type": "code",
   "execution_count": 27,
   "id": "216133f2",
   "metadata": {
    "execution": {
     "iopub.execute_input": "2021-08-31T08:41:56.352828Z",
     "iopub.status.busy": "2021-08-31T08:41:56.352066Z",
     "iopub.status.idle": "2021-08-31T08:41:56.354805Z",
     "shell.execute_reply": "2021-08-31T08:41:56.354371Z",
     "shell.execute_reply.started": "2021-08-31T08:23:36.021596Z"
    },
    "id": "lP2iJGWWj8Ok",
    "papermill": {
     "duration": 0.03826,
     "end_time": "2021-08-31T08:41:56.354909",
     "exception": false,
     "start_time": "2021-08-31T08:41:56.316649",
     "status": "completed"
    },
    "tags": []
   },
   "outputs": [],
   "source": [
    "data_n = pd.DataFrame(my,columns = inter.columns, index=inter.index)"
   ]
  },
  {
   "cell_type": "code",
   "execution_count": 28,
   "id": "165f5c42",
   "metadata": {
    "execution": {
     "iopub.execute_input": "2021-08-31T08:41:56.441004Z",
     "iopub.status.busy": "2021-08-31T08:41:56.440152Z",
     "iopub.status.idle": "2021-08-31T08:41:56.519782Z",
     "shell.execute_reply": "2021-08-31T08:41:56.519316Z",
     "shell.execute_reply.started": "2021-08-31T08:23:36.029096Z"
    },
    "id": "6BWYlnOnj83q",
    "papermill": {
     "duration": 0.133293,
     "end_time": "2021-08-31T08:41:56.519909",
     "exception": false,
     "start_time": "2021-08-31T08:41:56.386616",
     "status": "completed"
    },
    "tags": []
   },
   "outputs": [],
   "source": [
    "from sklearn.model_selection import train_test_split\n",
    "df = data_n.drop(columns = ['Weekly_Sales'])\n",
    "X_train, X_test, y_train, y_test = train_test_split(df,data_n['Weekly_Sales'],test_size = 0.2)"
   ]
  },
  {
   "cell_type": "code",
   "execution_count": 29,
   "id": "1184aa9d",
   "metadata": {
    "execution": {
     "iopub.execute_input": "2021-08-31T08:41:56.590999Z",
     "iopub.status.busy": "2021-08-31T08:41:56.589906Z",
     "iopub.status.idle": "2021-08-31T08:41:56.881915Z",
     "shell.execute_reply": "2021-08-31T08:41:56.882474Z",
     "shell.execute_reply.started": "2021-08-31T08:23:36.154947Z"
    },
    "id": "neuquugLmZSl",
    "outputId": "b037ad35-f49b-4bff-c645-2040c7a00e8f",
    "papermill": {
     "duration": 0.330704,
     "end_time": "2021-08-31T08:41:56.882636",
     "exception": false,
     "start_time": "2021-08-31T08:41:56.551932",
     "status": "completed"
    },
    "tags": []
   },
   "outputs": [
    {
     "data": {
      "text/plain": [
       "21830.318493673043"
      ]
     },
     "execution_count": 29,
     "metadata": {},
     "output_type": "execute_result"
    }
   ],
   "source": [
    "from sklearn.linear_model import LinearRegression\n",
    "from sklearn.metrics import mean_squared_error\n",
    "lr_reg = LinearRegression()\n",
    "lr_reg.fit(X_train,y_train)\n",
    "y_pred = lr_reg.predict(X_test)\n",
    "np.sqrt(mean_squared_error(y_test,y_pred))"
   ]
  },
  {
   "cell_type": "code",
   "execution_count": 30,
   "id": "af611823",
   "metadata": {
    "execution": {
     "iopub.execute_input": "2021-08-31T08:41:57.001990Z",
     "iopub.status.busy": "2021-08-31T08:41:57.001454Z",
     "iopub.status.idle": "2021-08-31T08:42:01.215060Z",
     "shell.execute_reply": "2021-08-31T08:42:01.215494Z",
     "shell.execute_reply.started": "2021-08-31T08:23:36.477343Z"
    },
    "id": "8gUfqRlvmrjT",
    "outputId": "3fec09c5-6ac0-4e17-d7bf-ebac436a5524",
    "papermill": {
     "duration": 4.275806,
     "end_time": "2021-08-31T08:42:01.215651",
     "exception": false,
     "start_time": "2021-08-31T08:41:56.939845",
     "status": "completed"
    },
    "tags": []
   },
   "outputs": [
    {
     "data": {
      "text/plain": [
       "5214.487043944253"
      ]
     },
     "execution_count": 30,
     "metadata": {},
     "output_type": "execute_result"
    }
   ],
   "source": [
    "from sklearn.tree import DecisionTreeRegressor\n",
    "dtr_reg = DecisionTreeRegressor()\n",
    "dtr_reg.fit(X_train,y_train)\n",
    "y_pred = dtr_reg.predict(X_test)\n",
    "np.sqrt(mean_squared_error(y_test,y_pred))"
   ]
  },
  {
   "cell_type": "code",
   "execution_count": 31,
   "id": "d0346247",
   "metadata": {
    "execution": {
     "iopub.execute_input": "2021-08-31T08:42:01.285754Z",
     "iopub.status.busy": "2021-08-31T08:42:01.285023Z",
     "iopub.status.idle": "2021-08-31T08:42:01.287710Z",
     "shell.execute_reply": "2021-08-31T08:42:01.287300Z",
     "shell.execute_reply.started": "2021-08-31T08:23:42.036064Z"
    },
    "id": "0L3P4QWKn8nq",
    "papermill": {
     "duration": 0.039169,
     "end_time": "2021-08-31T08:42:01.287815",
     "exception": false,
     "start_time": "2021-08-31T08:42:01.248646",
     "status": "completed"
    },
    "tags": []
   },
   "outputs": [],
   "source": [
    "def display_scores(model, X_test, y_test):\n",
    "  scores = cross_val_score(model, X_test, y_test, scoring = 'neg_mean_squared_error',cv = 10)\n",
    "  print(\"Scores: \", scores)\n",
    "  print(\"Mean: \", scores.mean())\n",
    "  print(\"Std Deviation: \", scores.std())"
   ]
  },
  {
   "cell_type": "code",
   "execution_count": 32,
   "id": "5d7f65ca",
   "metadata": {
    "execution": {
     "iopub.execute_input": "2021-08-31T08:42:01.356658Z",
     "iopub.status.busy": "2021-08-31T08:42:01.355836Z",
     "iopub.status.idle": "2021-08-31T08:42:10.443340Z",
     "shell.execute_reply": "2021-08-31T08:42:10.443729Z",
     "shell.execute_reply.started": "2021-08-31T08:23:42.043426Z"
    },
    "id": "yYQxRqbopvyy",
    "outputId": "e7ba81a0-85f5-4a5c-88e5-4a43031ef1d9",
    "papermill": {
     "duration": 9.12381,
     "end_time": "2021-08-31T08:42:10.443878",
     "exception": false,
     "start_time": "2021-08-31T08:42:01.320068",
     "status": "completed"
    },
    "tags": []
   },
   "outputs": [
    {
     "name": "stdout",
     "output_type": "stream",
     "text": [
      "Scores:  [-71969309.94958374 -62045833.66162619 -43609890.80372926\n",
      " -69508026.70086367 -63739042.71296289 -46563331.86595958\n",
      " -70018984.4256651  -42747584.22047012 -62616743.75180639\n",
      " -51597076.17342947]\n",
      "Mean:  -58441582.426609635\n",
      "Std Deviation:  10734096.518676816\n"
     ]
    }
   ],
   "source": [
    "from sklearn.model_selection import cross_val_score\n",
    "display_scores(dtr_reg,X_test,y_test)"
   ]
  },
  {
   "cell_type": "code",
   "execution_count": 33,
   "id": "e8ef805e",
   "metadata": {
    "execution": {
     "iopub.execute_input": "2021-08-31T08:42:10.514230Z",
     "iopub.status.busy": "2021-08-31T08:42:10.513383Z",
     "iopub.status.idle": "2021-08-31T08:42:10.868874Z",
     "shell.execute_reply": "2021-08-31T08:42:10.869821Z",
     "shell.execute_reply.started": "2021-08-31T08:23:53.035919Z"
    },
    "id": "y-LMQrbkpzK6",
    "outputId": "70de571b-3972-4a6f-d2ee-21f9dd7a994d",
    "papermill": {
     "duration": 0.393047,
     "end_time": "2021-08-31T08:42:10.870081",
     "exception": false,
     "start_time": "2021-08-31T08:42:10.477034",
     "status": "completed"
    },
    "tags": []
   },
   "outputs": [
    {
     "name": "stdout",
     "output_type": "stream",
     "text": [
      "Scores:  [-4.63588055e+08 -4.89284890e+08 -4.61411146e+08 -4.98696486e+08\n",
      " -5.02943254e+08 -4.55660183e+08 -4.71815631e+08 -4.27817421e+08\n",
      " -5.39319761e+08 -4.56773725e+08]\n",
      "Mean:  -476731055.24100477\n",
      "Std Deviation:  29851171.173485786\n"
     ]
    }
   ],
   "source": [
    "display_scores(lr_reg,X_test,y_test)"
   ]
  },
  {
   "cell_type": "code",
   "execution_count": 34,
   "id": "c84fb40d",
   "metadata": {
    "execution": {
     "iopub.execute_input": "2021-08-31T08:42:10.995724Z",
     "iopub.status.busy": "2021-08-31T08:42:10.994973Z",
     "iopub.status.idle": "2021-08-31T08:56:31.872683Z",
     "shell.execute_reply": "2021-08-31T08:56:31.873295Z",
     "shell.execute_reply.started": "2021-08-31T08:23:53.501519Z"
    },
    "id": "OYvKFg9Qq0_N",
    "outputId": "afbd3749-c590-4cf2-b7c3-b2b5ead83f54",
    "papermill": {
     "duration": 860.942734,
     "end_time": "2021-08-31T08:56:31.873498",
     "exception": false,
     "start_time": "2021-08-31T08:42:10.930764",
     "status": "completed"
    },
    "tags": []
   },
   "outputs": [
    {
     "name": "stdout",
     "output_type": "stream",
     "text": [
      "Scores:  [-26724250.47247583 -54469751.53989832 -29966075.62046045\n",
      " -22376870.58045162 -40314897.06776262 -19930710.25242436\n",
      " -28328328.0524522  -22315894.86638704 -43465786.37092596\n",
      " -21426485.84875427]\n",
      "Mean:  -30931905.067199267\n",
      "Std Deviation:  10878365.050375247\n"
     ]
    }
   ],
   "source": [
    "from sklearn.ensemble import RandomForestRegressor\n",
    "\n",
    "rf_reg = RandomForestRegressor()\n",
    "rf_reg.fit(X_train,y_train)\n",
    "y_pred = rf_reg.predict(X_test)\n",
    "display_scores(rf_reg,X_test,y_test)"
   ]
  },
  {
   "cell_type": "code",
   "execution_count": 35,
   "id": "0d738374",
   "metadata": {
    "execution": {
     "iopub.execute_input": "2021-08-31T08:56:31.944554Z",
     "iopub.status.busy": "2021-08-31T08:56:31.944011Z",
     "iopub.status.idle": "2021-08-31T08:56:31.948952Z",
     "shell.execute_reply": "2021-08-31T08:56:31.949380Z",
     "shell.execute_reply.started": "2021-08-31T08:40:05.207298Z"
    },
    "id": "RYxc7YSrxO1Q",
    "outputId": "308288d4-e446-4343-9ba2-e2ae010e8c57",
    "papermill": {
     "duration": 0.042105,
     "end_time": "2021-08-31T08:56:31.949500",
     "exception": false,
     "start_time": "2021-08-31T08:56:31.907395",
     "status": "completed"
    },
    "tags": []
   },
   "outputs": [
    {
     "data": {
      "text/plain": [
       "1363.1641"
      ]
     },
     "execution_count": 35,
     "metadata": {},
     "output_type": "execute_result"
    }
   ],
   "source": [
    "y_pred[5336]"
   ]
  },
  {
   "cell_type": "code",
   "execution_count": 36,
   "id": "cc69d5c1",
   "metadata": {
    "execution": {
     "iopub.execute_input": "2021-08-31T08:56:32.021639Z",
     "iopub.status.busy": "2021-08-31T08:56:32.019967Z",
     "iopub.status.idle": "2021-08-31T08:56:32.023965Z",
     "shell.execute_reply": "2021-08-31T08:56:32.023568Z",
     "shell.execute_reply.started": "2021-08-31T08:40:06.667871Z"
    },
    "id": "3LJhAir_4HUx",
    "papermill": {
     "duration": 0.041603,
     "end_time": "2021-08-31T08:56:32.024065",
     "exception": false,
     "start_time": "2021-08-31T08:56:31.982462",
     "status": "completed"
    },
    "tags": []
   },
   "outputs": [],
   "source": [
    "y_test_array = np.array(y_test)"
   ]
  },
  {
   "cell_type": "code",
   "execution_count": 37,
   "id": "57a84cae",
   "metadata": {
    "execution": {
     "iopub.execute_input": "2021-08-31T08:56:32.094967Z",
     "iopub.status.busy": "2021-08-31T08:56:32.094263Z",
     "iopub.status.idle": "2021-08-31T08:56:32.097244Z",
     "shell.execute_reply": "2021-08-31T08:56:32.097729Z",
     "shell.execute_reply.started": "2021-08-31T08:40:09.077835Z"
    },
    "id": "wFCwu8p84KNS",
    "outputId": "e8910f7f-db21-48b3-f3e7-2347bad440bf",
    "papermill": {
     "duration": 0.040708,
     "end_time": "2021-08-31T08:56:32.097841",
     "exception": false,
     "start_time": "2021-08-31T08:56:32.057133",
     "status": "completed"
    },
    "tags": []
   },
   "outputs": [
    {
     "data": {
      "text/plain": [
       "1930.86"
      ]
     },
     "execution_count": 37,
     "metadata": {},
     "output_type": "execute_result"
    }
   ],
   "source": [
    "y_test_array[5336]"
   ]
  },
  {
   "cell_type": "code",
   "execution_count": 38,
   "id": "185fac7a",
   "metadata": {
    "execution": {
     "iopub.execute_input": "2021-08-31T08:56:32.181756Z",
     "iopub.status.busy": "2021-08-31T08:56:32.181031Z",
     "iopub.status.idle": "2021-08-31T08:56:32.579266Z",
     "shell.execute_reply": "2021-08-31T08:56:32.579690Z",
     "shell.execute_reply.started": "2021-08-31T08:40:11.997542Z"
    },
    "id": "K5bXtgm24pC8",
    "outputId": "a194491b-de7e-4c82-b367-c54ef5e6dc36",
    "papermill": {
     "duration": 0.448413,
     "end_time": "2021-08-31T08:56:32.579830",
     "exception": false,
     "start_time": "2021-08-31T08:56:32.131417",
     "status": "completed"
    },
    "tags": []
   },
   "outputs": [
    {
     "data": {
      "text/plain": [
       "Text(0, 0.5, 'Predicted Weekly Sales')"
      ]
     },
     "execution_count": 38,
     "metadata": {},
     "output_type": "execute_result"
    },
    {
     "data": {
      "image/png": "[encoded data removed]",
      "text/plain": [
       "<Figure size 432x288 with 1 Axes>"
      ]
     },
     "metadata": {
      "needs_background": "light"
     },
     "output_type": "display_data"
    }
   ],
   "source": [
    "plt.scatter(y_test_array, y_pred)\n",
    "plt.xlabel('Actual Weekly Sales')\n",
    "plt.ylabel('Predicted Weekly Sales')"
   ]
  }
 ],
 "metadata": {
  "kernelspec": {
   "display_name": "Python 3",
   "language": "python",
   "name": "python3"
  },
  "language_info": {
   "codemirror_mode": {
    "name": "ipython",
    "version": 3
   },
   "file_extension": ".py",
   "mimetype": "text/x-python",
   "name": "python",
   "nbconvert_exporter": "python",
   "pygments_lexer": "ipython3",
   "version": "3.7.10"
  },
  "papermill": {
   "default_parameters": {},
   "duration": 890.825584,
   "end_time": "2021-08-31T08:56:33.940877",
   "environment_variables": {},
   "exception": null,
   "input_path": "__notebook__.ipynb",
   "output_path": "__notebook__.ipynb",
   "parameters": {},
   "start_time": "2021-08-31T08:41:43.115293",
   "version": "2.3.3"
  }
 },
 "nbformat": 4,
 "nbformat_minor": 5
}
